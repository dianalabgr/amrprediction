{
 "cells": [
  {
   "cell_type": "code",
   "execution_count": 187,
   "id": "89f1e7ec-c726-4ebb-b457-49e638fe7e02",
   "metadata": {},
   "outputs": [],
   "source": [
    "# Get Fasta headers\n",
    "headers = []\n",
    "current_header = None\n",
    "\n",
    "# Read Cd-hit fasta file\n",
    "with open(snakemake.input[1], 'r') as file:\n",
    "    for line in file:\n",
    "        line = line.strip()\n",
    "        if line.startswith('>'):\n",
    "            current_header = line.split(' ')[0][1:]\n",
    "            headers.append(current_header)"
   ]
  },
  {
   "cell_type": "code",
   "execution_count": 192,
   "id": "44ea8675-b70d-428c-beba-d268b095a227",
   "metadata": {},
   "outputs": [],
   "source": [
    "# Read upstream/protein sequences\n",
    "sequences = {}\n",
    "current_header = None\n",
    "\n",
    "with open(snakemake.input[0], 'r') as file:\n",
    "    for line in file:\n",
    "        line = line.strip()\n",
    "        if line.startswith('>'):\n",
    "            current_header = line.split(' ')[0][1:]\n",
    "            sequences[current_header] = ''\n",
    "        else:\n",
    "            sequences[current_header] += line"
   ]
  },
  {
   "cell_type": "code",
   "execution_count": 193,
   "id": "ecf2020d",
   "metadata": {},
   "outputs": [
    {
     "data": {
      "text/plain": [
       "(2296, 2454)"
      ]
     },
     "execution_count": 193,
     "metadata": {},
     "output_type": "execute_result"
    }
   ],
   "source": [
    "# Find with regex if headers are in the sequences.keys() and append this record if does not exist.\n",
    "import re\n",
    "\n",
    "\n",
    "for header in headers:\n",
    "    pattern = re.compile(r\"{}$\".format(re.escape(header)))\n",
    "    \n",
    "    if not any(pattern.search(key) for key in sequences.keys()):\n",
    "        sequences[header] = 'X'*100\n"
   ]
  },
  {
   "cell_type": "code",
   "execution_count": null,
   "id": "43bfee35-1dd9-46b8-9fbe-b7ed6e77ec03",
   "metadata": {},
   "outputs": [],
   "source": [
    "# Write the new fasta file\n",
    "with open(snakemake.output[0], 'w') as file:\n",
    "    for header, sequence in sequences.items():\n",
    "        file.write(f'>{header}\\n{sequence}\\n')"
   ]
  }
 ],
 "metadata": {
  "kernelspec": {
   "display_name": "Python 3 (ipykernel)",
   "language": "python",
   "name": "python3"
  },
  "language_info": {
   "codemirror_mode": {
    "name": "ipython",
    "version": 3
   },
   "file_extension": ".py",
   "mimetype": "text/x-python",
   "name": "python",
   "nbconvert_exporter": "python",
   "pygments_lexer": "ipython3",
   "version": "3.12.1"
  }
 },
 "nbformat": 4,
 "nbformat_minor": 5
}
