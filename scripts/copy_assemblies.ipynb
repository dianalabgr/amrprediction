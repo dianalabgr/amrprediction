{
 "cells": [
  {
   "cell_type": "code",
   "execution_count": 6,
   "id": "1a7ac43d-a8b2-4107-8e06-c04b94e11cfa",
   "metadata": {},
   "outputs": [],
   "source": [
    "import pandas as pd\n",
    "import shutil\n",
    "import os\n",
    "\n",
    "from IPython.core.interactiveshell import InteractiveShell\n",
    "InteractiveShell.ast_node_interactivity = \"all\""
   ]
  },
  {
   "cell_type": "code",
   "execution_count": null,
   "id": "9161c763-372d-4418-b200-c69fd31a0f35",
   "metadata": {},
   "outputs": [
    {
     "data": {
      "text/plain": [
       "26318"
      ]
     },
     "execution_count": 12,
     "metadata": {},
     "output_type": "execute_result"
    },
    {
     "data": {
      "text/plain": [
       "'/mnt/raid1b/kdan_data/Milestone_1/Assemblies/ndaro/GCA_022430905.1.fna'"
      ]
     },
     "execution_count": 12,
     "metadata": {},
     "output_type": "execute_result"
    }
   ],
   "source": [
    "# Add assemblies to a list\n",
    "def list_files_in_dir(directory):\n",
    "    directory = os.path.abspath(directory)\n",
    "\n",
    "    try:\n",
    "        assemblies = []\n",
    "        for root, dirs, files in os.walk(directory):\n",
    "            for file in files:\n",
    "                if file.endswith(\".csv\"):\n",
    "                    continue\n",
    "                assemblies.append(os.path.join(root, file))\n",
    "        return assemblies\n",
    "\n",
    "    except OSError as e:\n",
    "        print(f\"Error reading directory '{directory}'\")\n",
    "        return None\n",
    "\n",
    "\n",
    "assemblies = list_files_in_dir(\"../../Milestone_1/Assemblies/\")\n",
    "len(assemblies)\n",
    "assemblies[0]"
   ]
  },
  {
   "cell_type": "code",
   "execution_count": 14,
   "id": "9df4ab27-1d89-4621-bd0a-05dbcbf4eb3d",
   "metadata": {
    "slideshow": {
     "slide_type": ""
    },
    "tags": []
   },
   "outputs": [
    {
     "data": {
      "text/plain": [
       "18545"
      ]
     },
     "execution_count": 14,
     "metadata": {},
     "output_type": "execute_result"
    }
   ],
   "source": [
    "# Copy assemblies that exist on antibiograms\n",
    "assemblies_to_copy = pd.read_csv(\"../../Milestone_1/Assemblies/strain_metadata_filtered.csv\")\n",
    "\n",
    "\n",
    "ids = []\n",
    "for col in ['biosample', 'sra', 'assembly']:\n",
    "    ids.extend(assemblies_to_copy[col].dropna().tolist())\n",
    "\n",
    "\n",
    "# 18.545 assemblies\n",
    "# Get unique assemblies\n",
    "ids = list(set(ids))\n",
    "\n",
    "#Add ending '.fna'\n",
    "ids = set(f\"{filename}{'.fna'}\" for filename in ids)\n",
    "\n",
    "len(ids)"
   ]
  },
  {
   "cell_type": "code",
   "execution_count": 38,
   "id": "e04a6371-a1e3-4824-af3d-83ca57685059",
   "metadata": {},
   "outputs": [],
   "source": [
    "for id in ids:\n",
    "    found_paths = [path for path in assemblies if os.path.basename(path) == id]\n",
    "    if len(found_paths) > 0:\n",
    "        destination_path = os.path.join(\"./assemblies\", id)\n",
    "        shutil.copy2(str(found_paths[0]), destination_path)\n",
    "    else:\n",
    "        print(id)\n"
   ]
  }
 ],
 "metadata": {
  "kernelspec": {
   "display_name": "Python 3 (ipykernel)",
   "language": "python",
   "name": "python3"
  },
  "language_info": {
   "codemirror_mode": {
    "name": "ipython",
    "version": 3
   },
   "file_extension": ".py",
   "mimetype": "text/x-python",
   "name": "python",
   "nbconvert_exporter": "python",
   "pygments_lexer": "ipython3",
   "version": "3.9.15"
  }
 },
 "nbformat": 4,
 "nbformat_minor": 5
}
