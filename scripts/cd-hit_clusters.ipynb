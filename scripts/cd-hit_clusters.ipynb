{
 "cells": [
  {
   "cell_type": "code",
   "execution_count": null,
   "id": "011d8790-c87d-48a4-a111-ac31368a6a46",
   "metadata": {},
   "outputs": [],
   "source": [
    "pip install biopython"
   ]
  },
  {
   "cell_type": "code",
   "execution_count": 1,
   "id": "8625e00f-95b4-4b0e-ab7b-3186450f1668",
   "metadata": {},
   "outputs": [],
   "source": [
    "from Bio import SeqIO\n",
    "import os\n",
    "import shutil"
   ]
  },
  {
   "cell_type": "code",
   "execution_count": 2,
   "id": "87ee22bb-37db-4a0d-a74a-7563912cadb2",
   "metadata": {},
   "outputs": [
    {
     "data": {
      "text/plain": [
       "2434"
      ]
     },
     "execution_count": 2,
     "metadata": {},
     "output_type": "execute_result"
    }
   ],
   "source": [
    "# firstly we run cat *.fasta > concatenated_fasta.fasta\n",
    "# and then: cd-hit -i concatenated_fasta.fasta -o cd-hit_output.fasta -M 0\n",
    "\n",
    "\n",
    "cluster_representatives = {}\n",
    "\n",
    "cluster_file = \"../annotation/cd-hit_output.fasta.clstr\"\n",
    "\n",
    "# Get representative protein id per cluster and save it in dictionary\n",
    "# Representative protein is not tnecessary the first in each cluster.\n",
    "# It is with '*' sign\n",
    "with open(cluster_file, 'r') as cluster_fh:\n",
    "    cluster_id = None\n",
    "    for line in cluster_fh:\n",
    "        if line.startswith('>Cluster'):\n",
    "            cluster_id = line.split()[1]\n",
    "        elif '*' in line:\n",
    "            representative_id = line.split(\"...\")[0].split(\">\")[1]\n",
    "            cluster_representatives[cluster_id] = representative_id\n",
    "\n",
    "\n",
    "len(cluster_representatives)"
   ]
  },
  {
   "cell_type": "code",
   "execution_count": null,
   "id": "96eb6bff-2839-4f82-87dc-c59829a51e0b",
   "metadata": {},
   "outputs": [],
   "source": [
    "input_fasta = \"../annotation/cd-hit_output.fasta\"\n",
    "output_fasta = \"../annotation/cluster_representatives.fasta\"\n",
    "\n",
    "# Based on representative protein ids, make a fasta files with these sequences\n",
    "with open(input_fasta, 'r') as input_fh, open(output_fasta, 'w') as output_fh:\n",
    "    for cluster_id, rep_id in cluster_representatives.items():\n",
    "        for record in SeqIO.parse(input_fasta, 'fasta'):\n",
    "            protein_id = record.id.split()[0]\n",
    "        \n",
    "            if protein_id == rep_id:\n",
    "                SeqIO.write(record, output_fh, 'fasta')\n"
   ]
  }
 ],
 "metadata": {
  "kernelspec": {
   "display_name": "Python 3 (ipykernel)",
   "language": "python",
   "name": "python3"
  },
  "language_info": {
   "codemirror_mode": {
    "name": "ipython",
    "version": 3
   },
   "file_extension": ".py",
   "mimetype": "text/x-python",
   "name": "python",
   "nbconvert_exporter": "python",
   "pygments_lexer": "ipython3",
   "version": "3.11.5"
  }
 },
 "nbformat": 4,
 "nbformat_minor": 5
}
