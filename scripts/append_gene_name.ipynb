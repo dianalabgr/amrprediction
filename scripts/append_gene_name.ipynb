{
 "cells": [
  {
   "cell_type": "markdown",
   "id": "b147fb17-4f17-42c5-810d-e5dd274c0e94",
   "metadata": {},
   "source": [
    "## Append Gene name on FASTA file"
   ]
  },
  {
   "cell_type": "code",
   "execution_count": 1,
   "id": "0b68f56f-0063-467a-af5c-00a7ae367f10",
   "metadata": {},
   "outputs": [],
   "source": [
    "from Bio import SeqIO\n",
    "import pandas as pd"
   ]
  },
  {
   "cell_type": "code",
   "execution_count": 2,
   "id": "688c620c-7796-4d52-9cd2-5a625cfd8005",
   "metadata": {},
   "outputs": [],
   "source": [
    "gene_names = []\n",
    "input = \"../annotation/annotation/concatenated_fasta.fasta\"\n",
    "output = \"../annotation/annotation/concatenated_fasta_appened.fasta\"\n",
    "\n",
    "card = \"../annotation/annotation/amr_databases/aro_index_v3.8.9.tsv\"\n",
    "amrfinder = \"../annotation/annotation/amr_databases/ReferenceGeneCatalog_v3.12.txt\"\n",
    "\n",
    "\n",
    "with open(input, \"r\") as fasta_file:\n",
    "    for record in SeqIO.parse(fasta_file, \"fasta\"):\n",
    "        gene_names.append(record.name)"
   ]
  },
  {
   "cell_type": "code",
   "execution_count": 3,
   "id": "f4ec0c76-a0b9-4ca8-bee8-9b08406d3ce3",
   "metadata": {},
   "outputs": [],
   "source": [
    "card = pd.read_csv(card, sep = \"\\t\")\n",
    "amrfinder = pd.read_csv(amrfinder, sep = \"\\t\")\n",
    "\n",
    "def concatenate_gene_names(element):\n",
    "    updated_header = {}\n",
    "    try:\n",
    "        query = amrfinder.loc[(amrfinder['genbank_protein_accession'] == element) | (amrfinder['refseq_protein_accession'] == element), 'gene_family']\n",
    "        if len(query) > 0:\n",
    "            updated_header[element] = element + \"_\" + query.iloc[0]\n",
    "        else:\n",
    "            if element == \"sp|P24734.3|AMPR_PSEAE\":\n",
    "                element = 'P24734.3'\n",
    "            updated_header[element] = element + \"_\" + card.loc[card['Protein Accession'] == element, 'CARD Short Name'].iloc[0]\n",
    "    except IndexError:\n",
    "        print('Index error', element)\n",
    "    except Exception as e:\n",
    "        print(e)\n",
    "    \n",
    "    return updated_header[element]\n",
    "\n",
    "\n",
    "updated_headers = {element: concatenate_gene_names(element) for element in gene_names}"
   ]
  },
  {
   "cell_type": "code",
   "execution_count": 6,
   "id": "a0f305a1-8bcd-4e98-8f4d-a96010cf49f3",
   "metadata": {},
   "outputs": [],
   "source": [
    "updated_records = []\n",
    "with open(input, \"r\") as fasta_file:\n",
    "    for record in SeqIO.parse(fasta_file, \"fasta\"):\n",
    "        record.id = updated_headers[record.id]\n",
    "        record.description = record.description\n",
    "        updated_records.append(record)\n",
    "\n",
    "\n",
    "with open(output, \"w\") as output_file:\n",
    "    SeqIO.write(updated_records, output_file, \"fasta\")"
   ]
  }
 ],
 "metadata": {
  "kernelspec": {
   "display_name": "Python 3 (ipykernel)",
   "language": "python",
   "name": "python3"
  },
  "language_info": {
   "codemirror_mode": {
    "name": "ipython",
    "version": 3
   },
   "file_extension": ".py",
   "mimetype": "text/x-python",
   "name": "python",
   "nbconvert_exporter": "python",
   "pygments_lexer": "ipython3",
   "version": "3.12.2"
  }
 },
 "nbformat": 4,
 "nbformat_minor": 5
}
